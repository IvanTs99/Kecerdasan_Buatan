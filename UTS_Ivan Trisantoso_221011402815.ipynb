{
 "cells": [
  {
   "cell_type": "code",
   "execution_count": null,
   "id": "e5fdc85b-e5d1-4674-af70-2a4d6d601ccd",
   "metadata": {},
   "outputs": [],
   "source": [
    "# Link Github\n",
    "# https://github.com/IvanTs99/Kecerdasan_Buatan\n",
    "\n",
    "# Nama  : Ivan Trisantoso\n",
    "# NIM   : 221011402815\n",
    "# Kelas : 05TPLM007\n",
    "\n",
    "# Data\n",
    "company_detail_list = [\n",
    "      {\n",
    "          'name': 'Company 1',\n",
    "          'domain': 'Retail',\n",
    "          'country': 'United States'\n",
    "      },\n",
    "      {\n",
    "          'name': 'Company 2',\n",
    "          'domain': 'Technology',\n",
    "          'country': 'United Kingdom'\n",
    "      },\n",
    "      {\n",
    "          'name': 'Company 3',\n",
    "          'domain': 'Healthcare',\n",
    "          'country': 'United States'\n",
    "      }\n",
    "  ]\n",
    "\n",
    "employee_detail_list = [\n",
    "     {\n",
    "          'name': 'EMP-0001',\n",
    "          'first_name': 'John',\n",
    "          'last_name': 'Doe',\n",
    "          'full_name': 'John Doe',\n",
    "          'company': 'Company 1',\n",
    "          'nationality': 'Australia'\n",
    "      },\n",
    "      {\n",
    "          'name': 'EMP-0002',\n",
    "          'first_name': 'Tom',\n",
    "          'last_name': 'Smith',\n",
    "          'full_name': 'Tom Smith',\n",
    "          'company': 'Company 2',\n",
    "          'nationality': 'United States'\n",
    "      },\n",
    "      {\n",
    "          'name': 'EMP-0003',\n",
    "          'first_name': 'Andrew',\n",
    "          'last_name': 'Sebastian',\n",
    "          'full_name': 'Andrew Sebastian',\n",
    "          'company': 'Company 3',\n",
    "          'nationality': 'United States'\n",
    "      },\n",
    "      {\n",
    "          'name': 'EMP-0005',\n",
    "          'first_name': 'Ying Han',\n",
    "          'last_name': 'Tan',\n",
    "          'full_name': 'Ying Han Tan',\n",
    "          'company': 'Company 1',\n",
    "          'nationality': 'Australia'\n",
    "      },\n",
    "      {\n",
    "          'name': 'EMP-0015',\n",
    "          'first_name': 'Kenneth',\n",
    "          'last_name': 'Ng',\n",
    "          'full_name': 'Kenneth Ng',\n",
    "          'company': 'Company 3',\n",
    "          'nationality': 'United States'\n",
    "      },\n",
    "      {\n",
    "          'name': 'EMP-0018',\n",
    "          'first_name': 'Rubby',\n",
    "          'last_name': 'Lee',\n",
    "          'full_name': 'Rubby Lee',\n",
    "          'company': 'Company 2',\n",
    "          'nationality': 'Hong Kong'\n",
    "      },\n",
    "     {\n",
    "          'name': 'EMP-0017',\n",
    "          'first_name': 'Robert',\n",
    "          'last_name': 'White',\n",
    "          'full_name': 'Robert White',\n",
    "          'company': 'Company 1',\n",
    "          'nationality': 'United Kingdom'\n",
    "      }\n",
    "  ]"
   ]
  },
  {
   "cell_type": "code",
   "execution_count": 7,
   "id": "f5ff76cd-b093-4dbd-b87e-a4d93d926793",
   "metadata": {},
   "outputs": [],
   "source": [
    "#Nomor 1"
   ]
  },
  {
   "cell_type": "code",
   "execution_count": 26,
   "id": "217d04ba-fa39-424c-95b0-7fb76f02e426",
   "metadata": {},
   "outputs": [
    {
     "name": "stdout",
     "output_type": "stream",
     "text": [
      "Task 1: Daftar Perusahaan Terurut (Nama Terbalik)\n",
      "{'name': 'Company 3'}\n",
      "{'name': 'Company 2'}\n",
      "{'name': 'Company 1'}\n"
     ]
    }
   ],
   "source": [
    "# Mengurutkan perusahaan berdasarkan nama secara terbalik dan hanya menampilkan nama perusahaan\n",
    "task1_result = sorted([{\"name\": c[\"name\"]} for c in company_detail_list], key=lambda x: x[\"name\"], reverse=True)\n",
    "\n",
    "# Menampilkan hasil dengan format rapi\n",
    "print(\"Task 1: Daftar Perusahaan Terurut (Nama Terbalik)\")\n",
    "for company in task1_result:\n",
    "    print(company)\n"
   ]
  },
  {
   "cell_type": "code",
   "execution_count": 10,
   "id": "7b069a2b-453a-40db-a72d-c57da362f99d",
   "metadata": {},
   "outputs": [],
   "source": [
    "#Nomor 2"
   ]
  },
  {
   "cell_type": "code",
   "execution_count": 18,
   "id": "a23ead32-1913-4015-9818-eb1a9e811828",
   "metadata": {},
   "outputs": [
    {
     "name": "stdout",
     "output_type": "stream",
     "text": [
      "\n",
      "Task 2: Domain dan Negara dari Setiap Perusahaan\n",
      "Company 1: Retail (United States)\n",
      "Company 2: Technology (United Kingdom)\n",
      "Company 3: Healthcare (United States)\n"
     ]
    }
   ],
   "source": [
    "print(\"\\nTask 2: Domain dan Negara dari Setiap Perusahaan\")\n",
    "# Mencetak informasi nama, domain, dan negara dari setiap perusahaan dengan format rapi\n",
    "for company in company_detail_list:\n",
    "    print(f\"{company['name']}: {company['domain']} ({company['country']})\")\n"
   ]
  },
  {
   "cell_type": "code",
   "execution_count": 19,
   "id": "ac1b8c0d-ec09-4c83-bcea-ffe6b5d9c3f6",
   "metadata": {},
   "outputs": [],
   "source": [
    "#Nomor 3"
   ]
  },
  {
   "cell_type": "code",
   "execution_count": 20,
   "id": "d42b74d6-9a06-4c95-a132-dba56ffb792c",
   "metadata": {},
   "outputs": [
    {
     "name": "stdout",
     "output_type": "stream",
     "text": [
      "\n",
      "Task 3: Daftar Karyawan Berdasarkan Domain Perusahaan\n",
      "Retail: ['John Doe', 'Ying Han Tan', 'Robert White']\n",
      "Technology: ['Tom Smith', 'Rubby Lee']\n",
      "Healthcare: ['Andrew Sebastian', 'Kenneth Ng']\n"
     ]
    }
   ],
   "source": [
    "from collections import defaultdict\n",
    "\n",
    "# Membuat dictionary untuk mengelompokkan karyawan berdasarkan domain perusahaan\n",
    "domain_employees = defaultdict(list)\n",
    "for employee in employee_detail_list:\n",
    "    domain = next(c[\"domain\"] for c in company_detail_list if c[\"name\"] == employee[\"company\"])\n",
    "    domain_employees[domain].append(employee[\"full_name\"])\n",
    "\n",
    "# Menampilkan hasil akhir dalam bentuk dictionary biasa dengan format rapi\n",
    "print(\"\\nTask 3: Daftar Karyawan Berdasarkan Domain Perusahaan\")\n",
    "for domain, employees in domain_employees.items():\n",
    "    print(f\"{domain}: {employees}\")\n"
   ]
  },
  {
   "cell_type": "code",
   "execution_count": 21,
   "id": "6b14ea56-5d1b-447a-90e0-b4a1008ecdde",
   "metadata": {},
   "outputs": [],
   "source": [
    "#Nomor 4"
   ]
  },
  {
   "cell_type": "code",
   "execution_count": 22,
   "id": "769843c9-4fda-4b02-8739-d96507d1ef1a",
   "metadata": {},
   "outputs": [
    {
     "name": "stdout",
     "output_type": "stream",
     "text": [
      "\n",
      "Task 4: Daftar Karyawan dengan Negara Perusahaan\n",
      "{'full_name': 'John Doe', 'company': 'Company 1', 'country': 'United States'}\n",
      "{'full_name': 'Tom Smith', 'company': 'Company 2', 'country': 'United Kingdom'}\n",
      "{'full_name': 'Andrew Sebastian', 'company': 'Company 3', 'country': 'United States'}\n",
      "{'full_name': 'Ying Han Tan', 'company': 'Company 1', 'country': 'United States'}\n",
      "{'full_name': 'Kenneth Ng', 'company': 'Company 3', 'country': 'United States'}\n",
      "{'full_name': 'Rubby Lee', 'company': 'Company 2', 'country': 'United Kingdom'}\n",
      "{'full_name': 'Robert White', 'company': 'Company 1', 'country': 'United States'}\n"
     ]
    }
   ],
   "source": [
    "# Fungsi untuk mengembalikan karyawan beserta negara perusahaannya\n",
    "def employees_with_company_country():\n",
    "    return [\n",
    "        {\n",
    "            \"full_name\": e[\"full_name\"],\n",
    "            \"company\": e[\"company\"],\n",
    "            \"country\": next(c[\"country\"] for c in company_detail_list if c[\"name\"] == e[\"company\"])\n",
    "        }\n",
    "        for e in employee_detail_list\n",
    "    ]\n",
    "\n",
    "# Memanggil fungsi dan menampilkan hasil dengan format rapi\n",
    "print(\"\\nTask 4: Daftar Karyawan dengan Negara Perusahaan\")\n",
    "task4_result = employees_with_company_country()\n",
    "for employee in task4_result:\n",
    "    print(employee)\n"
   ]
  },
  {
   "cell_type": "code",
   "execution_count": 23,
   "id": "9562018d-b85b-4c97-a893-f869ede43c89",
   "metadata": {},
   "outputs": [],
   "source": [
    "#Nomor 5"
   ]
  },
  {
   "cell_type": "code",
   "execution_count": 24,
   "id": "f294e789-f662-4d56-a0d6-1f7248e6a135",
   "metadata": {},
   "outputs": [
    {
     "name": "stdout",
     "output_type": "stream",
     "text": [
      "\n",
      "Task 5: Jumlah Kewarganegaraan Karyawan per Perusahaan\n",
      "{'company': 'Company 1', 'employee_nationality': {'Australia': 2, 'United Kingdom': 1}}\n",
      "{'company': 'Company 2', 'employee_nationality': {'United States': 1, 'Hong Kong': 1}}\n",
      "{'company': 'Company 3', 'employee_nationality': {'United States': 2}}\n"
     ]
    }
   ],
   "source": [
    "# Fungsi untuk menghitung kewarganegaraan karyawan di setiap perusahaan\n",
    "def company_employee_nationalities():\n",
    "    company_nationalities = defaultdict(lambda: defaultdict(int))\n",
    "    for e in employee_detail_list:\n",
    "        company_nationalities[e[\"company\"]][e[\"nationality\"]] += 1\n",
    "\n",
    "    # Format hasil dalam bentuk list dictionary\n",
    "    return [{\"company\": k, \"employee_nationality\": dict(v)} for k, v in company_nationalities.items()]\n",
    "\n",
    "# Memanggil fungsi dan menampilkan hasil dengan format rapi\n",
    "print(\"\\nTask 5: Jumlah Kewarganegaraan Karyawan per Perusahaan\")\n",
    "task5_result = company_employee_nationalities()\n",
    "for company in task5_result:\n",
    "    print(company)\n"
   ]
  },
  {
   "cell_type": "code",
   "execution_count": 29,
   "id": "9d7d5225-68c3-4e51-9023-83cd8c06a8a1",
   "metadata": {},
   "outputs": [],
   "source": [
    "# https://github.com/IvanTs99/Kecerdasan_Buatan"
   ]
  },
  {
   "cell_type": "code",
   "execution_count": null,
   "id": "5c3e681e-1d29-4ec1-a4ea-35c7d5bc7aa8",
   "metadata": {},
   "outputs": [],
   "source": []
  }
 ],
 "metadata": {
  "kernelspec": {
   "display_name": "Python 3 (ipykernel)",
   "language": "python",
   "name": "python3"
  },
  "language_info": {
   "codemirror_mode": {
    "name": "ipython",
    "version": 3
   },
   "file_extension": ".py",
   "mimetype": "text/x-python",
   "name": "python",
   "nbconvert_exporter": "python",
   "pygments_lexer": "ipython3",
   "version": "3.12.4"
  }
 },
 "nbformat": 4,
 "nbformat_minor": 5
}
